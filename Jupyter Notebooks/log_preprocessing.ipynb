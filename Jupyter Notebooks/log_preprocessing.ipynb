{
  "cells": [
    {
      "cell_type": "markdown",
      "id": "2336bd2c",
      "metadata": {
        "id": "2336bd2c"
      },
      "source": [
        "# Log File - Data Exploration"
      ]
    },
    {
      "cell_type": "markdown",
      "id": "e212fbce",
      "metadata": {
        "id": "e212fbce"
      },
      "source": [
        "## Loading Libraries"
      ]
    },
    {
      "cell_type": "code",
      "execution_count": null,
      "id": "e1e6a514",
      "metadata": {
        "id": "e1e6a514"
      },
      "outputs": [],
      "source": [
        "from pyspark.sql import SparkSession"
      ]
    },
    {
      "cell_type": "markdown",
      "id": "10a6cc9d",
      "metadata": {
        "id": "10a6cc9d"
      },
      "source": [
        "## Spark Session Object Creation\n"
      ]
    },
    {
      "cell_type": "code",
      "execution_count": null,
      "id": "5ca8a769",
      "metadata": {
        "id": "5ca8a769"
      },
      "outputs": [],
      "source": [
        "spark = SparkSession\\\n",
        ".builder\\\n",
        ".appName(\"pyspark-notebook\").\\\n",
        "config(\"spark.sql.legacy.timeParserPolicy\", \"LEGACY\").\\\n",
        "getOrCreate()"
      ]
    },
    {
      "cell_type": "markdown",
      "id": "ab22b864",
      "metadata": {
        "id": "ab22b864"
      },
      "source": [
        "## Loading"
      ]
    },
    {
      "cell_type": "code",
      "execution_count": null,
      "id": "a2933904",
      "metadata": {
        "id": "a2933904"
      },
      "outputs": [],
      "source": [
        "log_file_path=\"actual_log.txt\""
      ]
    },
    {
      "cell_type": "code",
      "execution_count": null,
      "id": "277b37d0",
      "metadata": {
        "id": "277b37d0",
        "outputId": "8f8d11fc-402c-446e-fadf-24abba5b8ef8"
      },
      "outputs": [
        {
          "name": "stdout",
          "output_type": "stream",
          "text": [
            "root\n",
            " |-- value: string (nullable = true)\n",
            "\n",
            "+-------------------------------------------------------------------------------------------------------------------------------+\n",
            "|value                                                                                                                          |\n",
            "+-------------------------------------------------------------------------------------------------------------------------------+\n",
            "|in24.inetnebr.com - - [01/Aug/1995:00:00:01 -0400] \"GET /shuttle/missions/sts-68/news/sts-68-mcc-05.txt HTTP/1.0\" 200 1839     |\n",
            "|uplherc.upl.com - - [01/Aug/1995:00:00:07 -0400] \"GET / HTTP/1.0\" 304                                                          |\n",
            "|uplherc.upl.com - - [01/Aug/1995:00:00:08 -0400] \"GET /images/ksclogo-medium.gif HTTP/1.0\" 304 0                               |\n",
            "|uplherc.upl.com - - [01/Aug/1995:00:00:08 -0400] \"GET /images/MOSAIC-logosmall.gif HTTP/1.0\" 304                               |\n",
            "|uplherc.upl.com - - [01/Aug/1995:00:00:08 -0400] \"GET /images/USA-logosmall.gif HTTP/1.0\" 304 0                                |\n",
            "|ix-esc-ca2-07.ix.netcom.com - - [01/Aug/1995:00:00:09 -0400] \"GET /images/launch-logo.gif HTTP/1.0\" 200 1713                   |\n",
            "|uplherc.upl.com - - [01/Aug/1995:00:00:10 -0400] \"GET /images/WORLD-logosmall.gif HTTP/1.0\" 304 0                              |\n",
            "|slppp6.intermind.net - - [01/Aug/1995:00:00:10 -0400] \"GET /history/skylab/skylab.html HTTP/1.0\" 200 1687                      |\n",
            "|piweba4y.prodigy.com - - [01/Aug/1995:00:00:10 -0400] \"GET /images/launchmedium.gif HTTP/1.0\" 200 11853                        |\n",
            "|slppp6.intermind.net - - [01/Aug/1995:00:00:11 -0400] \"GET /history/skylab/skylab-small.gif HTTP/1.0\" 200 9202                 |\n",
            "|slppp6.intermind.net - - [01/Aug/1995:00:00:12 -0400] \"GET /images/ksclogosmall.gif HTTP/1.0\" 200 3635                         |\n",
            "|ix-esc-ca2-07.ix.netcom.com - - [01/Aug/1995:00:00:12 -0400] \"GET /history/apollo/images/apollo-logo1.gif HTTP/1.0\" 200 1173   |\n",
            "|slppp6.intermind.net - - [01/Aug/1995:00:00:13 -0400] \"GET /history/apollo/images/apollo-logo.gif HTTP/1.0\" 200 3047           |\n",
            "|uplherc.upl.com - - [01/Aug/1995:00:00:14 -0400] \"GET /images/NASA-logosmall.gif HTTP/1.0\" 304 0                               |\n",
            "|133.43.96.45 - - [01/Aug/1995:00:00:16 -0400] \"GET /shuttle/missions/sts-69/mission-sts-69.html HTTP/1.0\" 200 10566            |\n",
            "|kgtyk4.kj.yamagata-u.ac.jp - - [01/Aug/1995:00:00:17 -0400] \"GET / HTTP/1.0\" 200 7280                                          |\n",
            "|kgtyk4.kj.yamagata-u.ac.jp - - [01/Aug/1995:00:00:18 -0400] \"GET /images/ksclogo-medium.gif HTTP/1.0\" 200 5866                 |\n",
            "|d0ucr6.fnal.gov - - [01/Aug/1995:00:00:19 -0400] \"GET /history/apollo/apollo-16/apollo-16.html HTTP/1.0\" 200 2743              |\n",
            "|ix-esc-ca2-07.ix.netcom.com - - [01/Aug/1995:00:00:19 -0400] \"GET /shuttle/resources/orbiters/discovery.html HTTP/1.0\" 200 6849|\n",
            "|d0ucr6.fnal.gov - - [01/Aug/1995:00:00:20 -0400] \"GET /history/apollo/apollo-16/apollo-16-patch-small.gif HTTP/1.0\" 200 14897  |\n",
            "+-------------------------------------------------------------------------------------------------------------------------------+\n",
            "\n"
          ]
        }
      ],
      "source": [
        "base_df = spark.read.text(log_file_path)\n",
        "# View the schema\n",
        "base_df.printSchema()\n",
        "base_df.show(truncate=False)"
      ]
    },
    {
      "cell_type": "markdown",
      "id": "92597d5f",
      "metadata": {
        "id": "92597d5f"
      },
      "source": [
        "## Parsing"
      ]
    },
    {
      "cell_type": "markdown",
      "id": "c13f13a7",
      "metadata": {
        "id": "c13f13a7"
      },
      "source": [
        " Common Log Format:\n",
        "\n",
        "<b>remotehost rfc931 authuser date \"request\" status bytes</b>\n",
        "\n",
        "<table>\n",
        "    <tr>\n",
        "        <th>field</th>\n",
        "        <th>meaning</th>\n",
        "    </tr>\n",
        "    <tr>\n",
        "        <td>remotehost</td>\n",
        "        <td>Remote hostname (or IP number if DNS hostname is not available).</td>\n",
        "    </tr>\n",
        "    <tr>\n",
        "        <td>rfc931</td>\n",
        "        <td>The remote logname of the user. We don't really care about this field.</td>\n",
        "    </tr>\n",
        "    <tr>\n",
        "        <td>authuser</td>\n",
        "        <td>The username of the remote user, as authenticated by the HTTP server.</td>\n",
        "    </tr>\n",
        "    <tr>\n",
        "        <td>date</td>\n",
        "        <td>The date and time of the request.</td>\n",
        "    </tr>\n",
        "    <tr>\n",
        "        <td>request</td>\n",
        "        <td>The request, exactly as it came from the browser or client.</td>\n",
        "    </tr>\n",
        "    <tr>\n",
        "        <td>status</td>\n",
        "        <td>The HTTP status code the server sent back to the client.</td>\n",
        "    </tr>\n",
        "    <tr>\n",
        "        <td>bytes</td>\n",
        "        <td>The number of bytes (Content-Length) transferred to the client.</td>\n",
        "    </tr>\n",
        "</table>\n",
        "Next, parsing it into individual columns. Use the built-in regexp_extract() function to do the parsing. This function matches a column against a regular expression with one or more capture groups and allows to extract one of the matched groups. We'll use one regular expression for each field that we'd like to extract.\n",
        "<br> </br>   \n",
        "Regular expression reference: <a href=\"https://regexone.com/\">RegexOne web site</a>."
      ]
    },
    {
      "cell_type": "code",
      "execution_count": null,
      "id": "d3dc94a7",
      "metadata": {
        "id": "d3dc94a7",
        "outputId": "bca361ce-f37d-4e60-9d4e-6c68ace11ed8"
      },
      "outputs": [
        {
          "name": "stdout",
          "output_type": "stream",
          "text": [
            "+----------------------------+--------------------------+---------------------------------------------------+------+------------+\n",
            "|host                        |timestamp                 |path                                               |status|content_size|\n",
            "+----------------------------+--------------------------+---------------------------------------------------+------+------------+\n",
            "|in24.inetnebr.com           |01/Aug/1995:00:00:01 -0400|/shuttle/missions/sts-68/news/sts-68-mcc-05.txt    |200   |1839        |\n",
            "|uplherc.upl.com             |01/Aug/1995:00:00:07 -0400|/                                                  |304   |null        |\n",
            "|uplherc.upl.com             |01/Aug/1995:00:00:08 -0400|/images/ksclogo-medium.gif                         |304   |0           |\n",
            "|uplherc.upl.com             |01/Aug/1995:00:00:08 -0400|/images/MOSAIC-logosmall.gif                       |304   |null        |\n",
            "|uplherc.upl.com             |01/Aug/1995:00:00:08 -0400|/images/USA-logosmall.gif                          |304   |0           |\n",
            "|ix-esc-ca2-07.ix.netcom.com |01/Aug/1995:00:00:09 -0400|/images/launch-logo.gif                            |200   |1713        |\n",
            "|uplherc.upl.com             |01/Aug/1995:00:00:10 -0400|/images/WORLD-logosmall.gif                        |304   |0           |\n",
            "|slppp6.intermind.net        |01/Aug/1995:00:00:10 -0400|/history/skylab/skylab.html                        |200   |1687        |\n",
            "|piweba4y.prodigy.com        |01/Aug/1995:00:00:10 -0400|/images/launchmedium.gif                           |200   |11853       |\n",
            "|slppp6.intermind.net        |01/Aug/1995:00:00:11 -0400|/history/skylab/skylab-small.gif                   |200   |9202        |\n",
            "|slppp6.intermind.net        |01/Aug/1995:00:00:12 -0400|/images/ksclogosmall.gif                           |200   |3635        |\n",
            "|ix-esc-ca2-07.ix.netcom.com |01/Aug/1995:00:00:12 -0400|/history/apollo/images/apollo-logo1.gif            |200   |1173        |\n",
            "|slppp6.intermind.net        |01/Aug/1995:00:00:13 -0400|/history/apollo/images/apollo-logo.gif             |200   |3047        |\n",
            "|uplherc.upl.com             |01/Aug/1995:00:00:14 -0400|/images/NASA-logosmall.gif                         |304   |0           |\n",
            "|133.43.96.45                |01/Aug/1995:00:00:16 -0400|/shuttle/missions/sts-69/mission-sts-69.html       |200   |10566       |\n",
            "|kgtyk4.kj.yamagata-u.ac.jp  |01/Aug/1995:00:00:17 -0400|/                                                  |200   |7280        |\n",
            "|kgtyk4.kj.yamagata-u.ac.jp  |01/Aug/1995:00:00:18 -0400|/images/ksclogo-medium.gif                         |200   |5866        |\n",
            "|d0ucr6.fnal.gov             |01/Aug/1995:00:00:19 -0400|/history/apollo/apollo-16/apollo-16.html           |200   |2743        |\n",
            "|ix-esc-ca2-07.ix.netcom.com |01/Aug/1995:00:00:19 -0400|/shuttle/resources/orbiters/discovery.html         |200   |6849        |\n",
            "|d0ucr6.fnal.gov             |01/Aug/1995:00:00:20 -0400|/history/apollo/apollo-16/apollo-16-patch-small.gif|200   |14897       |\n",
            "+----------------------------+--------------------------+---------------------------------------------------+------+------------+\n",
            "\n"
          ]
        }
      ],
      "source": [
        "from pyspark.sql.functions import split, regexp_extract\n",
        "split_df = base_df.select(regexp_extract('value', r'^([^\\s]+\\s)', 1).alias('host'),\n",
        "                          regexp_extract('value', r'^.*\\[(\\d\\d/\\w{3}/\\d{4}:\\d{2}:\\d{2}:\\d{2} -\\d{4})]', 1).alias('timestamp'),\n",
        "                          regexp_extract('value', r'^.*\"\\w+\\s+([^\\s]+)\\s+HTTP.*\"', 1).alias('path'),\n",
        "                          regexp_extract('value', r'^.*\"\\s+([^\\s]+)', 1).cast('integer').alias('status'),\n",
        "                          regexp_extract('value', r'^.*\\s+(\\d+)$', 1).cast('integer').alias('content_size'))\n",
        "split_df.show(truncate=False)"
      ]
    },
    {
      "cell_type": "markdown",
      "id": "301a24c8",
      "metadata": {
        "id": "301a24c8"
      },
      "source": [
        "## Cleaning\n",
        "Check that there are no null rows in the original data set."
      ]
    },
    {
      "cell_type": "code",
      "execution_count": null,
      "id": "c03801cf",
      "metadata": {
        "id": "c03801cf",
        "outputId": "0ae9565d-ba52-4a1f-f047-eae48e750471"
      },
      "outputs": [
        {
          "data": {
            "text/plain": [
              "0"
            ]
          },
          "execution_count": 7,
          "metadata": {},
          "output_type": "execute_result"
        }
      ],
      "source": [
        "base_df.filter(base_df['value'].isNull()).count()"
      ]
    },
    {
      "cell_type": "markdown",
      "id": "18bf7c52",
      "metadata": {
        "id": "18bf7c52"
      },
      "source": [
        "Check the parsed dataframe"
      ]
    },
    {
      "cell_type": "code",
      "execution_count": null,
      "id": "5e5bda63",
      "metadata": {
        "id": "5e5bda63",
        "outputId": "ddce1599-9f28-456f-ff32-ea2195fe3fbb"
      },
      "outputs": [
        {
          "data": {
            "text/plain": [
              "2"
            ]
          },
          "execution_count": 8,
          "metadata": {},
          "output_type": "execute_result"
        }
      ],
      "source": [
        "bad_rows_df = split_df.filter(split_df['host'].isNull() |\n",
        "                              split_df['timestamp'].isNull() |\n",
        "                              split_df['path'].isNull() |\n",
        "                              split_df['status'].isNull() |\n",
        "                             split_df['content_size'].isNull())\n",
        "bad_rows_df.count()"
      ]
    },
    {
      "cell_type": "markdown",
      "id": "8b216294",
      "metadata": {
        "id": "8b216294"
      },
      "source": [
        "Figuring out which fields are affected."
      ]
    },
    {
      "cell_type": "code",
      "execution_count": null,
      "id": "42c14861",
      "metadata": {
        "id": "42c14861",
        "outputId": "4b2999b7-9e23-4f69-a241-e7eee47d7c30"
      },
      "outputs": [
        {
          "name": "stdout",
          "output_type": "stream",
          "text": [
            "+----+---------+----+------+------------+\n",
            "|host|timestamp|path|status|content_size|\n",
            "+----+---------+----+------+------------+\n",
            "|   0|        0|   0|     0|           2|\n",
            "+----+---------+----+------+------------+\n",
            "\n"
          ]
        }
      ],
      "source": [
        "from pyspark.sql.functions import col, sum\n",
        "\n",
        "def count_null(col_name):\n",
        "  return sum(col(col_name).isNull().cast('integer')).alias(col_name)\n",
        "expression = []\n",
        "[expression.append(count_null(col_name)) for col_name in split_df.columns]\n",
        "split_df.agg(*expression).show()"
      ]
    },
    {
      "cell_type": "markdown",
      "id": "aaa8e63a",
      "metadata": {
        "id": "aaa8e63a"
      },
      "source": [
        "## Fix the rows with null content_size"
      ]
    },
    {
      "cell_type": "markdown",
      "id": "71683496",
      "metadata": {
        "id": "71683496"
      },
      "source": [
        "Use na to replace <code>content_size</code> with 0."
      ]
    },
    {
      "cell_type": "code",
      "execution_count": null,
      "id": "e2e9eac6",
      "metadata": {
        "id": "e2e9eac6",
        "outputId": "6bb853ff-52cd-44e1-9c35-bcabb2c695b6"
      },
      "outputs": [
        {
          "name": "stdout",
          "output_type": "stream",
          "text": [
            "+----+---------+----+------+------------+\n",
            "|host|timestamp|path|status|content_size|\n",
            "+----+---------+----+------+------------+\n",
            "|   0|        0|   0|     0|           0|\n",
            "+----+---------+----+------+------------+\n",
            "\n"
          ]
        }
      ],
      "source": [
        "cleaned_df = split_df.na.fill({'content_size': 0})\n",
        "expression = []\n",
        "[expression.append(count_null(col_name)) for col_name in cleaned_df.columns]\n",
        "\n",
        "cleaned_df.agg(*expression).show()"
      ]
    },
    {
      "cell_type": "code",
      "execution_count": null,
      "id": "fcf73b0e",
      "metadata": {
        "id": "fcf73b0e",
        "outputId": "ea69ad5c-a55d-4519-f96b-2e228930e138"
      },
      "outputs": [
        {
          "name": "stdout",
          "output_type": "stream",
          "text": [
            "20\n",
            "+----------------------------+---------------------------------------------------+------+------------+-------------------+\n",
            "|host                        |path                                               |status|content_size|time               |\n",
            "+----------------------------+---------------------------------------------------+------+------------+-------------------+\n",
            "|in24.inetnebr.com           |/shuttle/missions/sts-68/news/sts-68-mcc-05.txt    |200   |1839        |1995-08-01 04:00:01|\n",
            "|uplherc.upl.com             |/                                                  |304   |0           |1995-08-01 04:00:07|\n",
            "|uplherc.upl.com             |/images/ksclogo-medium.gif                         |304   |0           |1995-08-01 04:00:08|\n",
            "|uplherc.upl.com             |/images/MOSAIC-logosmall.gif                       |304   |0           |1995-08-01 04:00:08|\n",
            "|uplherc.upl.com             |/images/USA-logosmall.gif                          |304   |0           |1995-08-01 04:00:08|\n",
            "|ix-esc-ca2-07.ix.netcom.com |/images/launch-logo.gif                            |200   |1713        |1995-08-01 04:00:09|\n",
            "|uplherc.upl.com             |/images/WORLD-logosmall.gif                        |304   |0           |1995-08-01 04:00:10|\n",
            "|slppp6.intermind.net        |/history/skylab/skylab.html                        |200   |1687        |1995-08-01 04:00:10|\n",
            "|piweba4y.prodigy.com        |/images/launchmedium.gif                           |200   |11853       |1995-08-01 04:00:10|\n",
            "|slppp6.intermind.net        |/history/skylab/skylab-small.gif                   |200   |9202        |1995-08-01 04:00:11|\n",
            "|slppp6.intermind.net        |/images/ksclogosmall.gif                           |200   |3635        |1995-08-01 04:00:12|\n",
            "|ix-esc-ca2-07.ix.netcom.com |/history/apollo/images/apollo-logo1.gif            |200   |1173        |1995-08-01 04:00:12|\n",
            "|slppp6.intermind.net        |/history/apollo/images/apollo-logo.gif             |200   |3047        |1995-08-01 04:00:13|\n",
            "|uplherc.upl.com             |/images/NASA-logosmall.gif                         |304   |0           |1995-08-01 04:00:14|\n",
            "|133.43.96.45                |/shuttle/missions/sts-69/mission-sts-69.html       |200   |10566       |1995-08-01 04:00:16|\n",
            "|kgtyk4.kj.yamagata-u.ac.jp  |/                                                  |200   |7280        |1995-08-01 04:00:17|\n",
            "|kgtyk4.kj.yamagata-u.ac.jp  |/images/ksclogo-medium.gif                         |200   |5866        |1995-08-01 04:00:18|\n",
            "|d0ucr6.fnal.gov             |/history/apollo/apollo-16/apollo-16.html           |200   |2743        |1995-08-01 04:00:19|\n",
            "|ix-esc-ca2-07.ix.netcom.com |/shuttle/resources/orbiters/discovery.html         |200   |6849        |1995-08-01 04:00:19|\n",
            "|d0ucr6.fnal.gov             |/history/apollo/apollo-16/apollo-16-patch-small.gif|200   |14897       |1995-08-01 04:00:20|\n",
            "+----------------------------+---------------------------------------------------+------+------------+-------------------+\n",
            "\n"
          ]
        }
      ],
      "source": [
        "from pyspark.sql.functions import *\n",
        "logs_df = cleaned_df.select('*', to_timestamp(cleaned_df['timestamp'],\"dd/MMM/yyyy:HH:mm:ss ZZZZ\").cast('timestamp').alias('time')).drop('timestamp')\n",
        "total_log_entries = logs_df.count()\n",
        "print(total_log_entries)\n",
        "logs_df.show(truncate=False)"
      ]
    }
  ],
  "metadata": {
    "kernelspec": {
      "display_name": "Python 3",
      "language": "python",
      "name": "python3"
    },
    "language_info": {
      "codemirror_mode": {
        "name": "ipython",
        "version": 3
      },
      "file_extension": ".py",
      "mimetype": "text/x-python",
      "name": "python",
      "nbconvert_exporter": "python",
      "pygments_lexer": "ipython3",
      "version": "3.7.3"
    },
    "colab": {
      "provenance": []
    }
  },
  "nbformat": 4,
  "nbformat_minor": 5
}